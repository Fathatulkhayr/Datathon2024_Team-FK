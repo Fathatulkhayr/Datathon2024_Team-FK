{
  "nbformat": 4,
  "nbformat_minor": 0,
  "metadata": {
    "colab": {
      "provenance": []
    },
    "kernelspec": {
      "name": "python3",
      "display_name": "Python 3"
    },
    "language_info": {
      "name": "python"
    }
  },
  "cells": [
    {
      "cell_type": "markdown",
      "source": [
        "Information about the Dataset:\n"
      ],
      "metadata": {
        "id": "ltYyaqdTTK48"
      }
    },
    {
      "cell_type": "markdown",
      "source": [
        "## **1.Data Preprocessing and Analysis**"
      ],
      "metadata": {
        "id": "V69Jfs3RThLD"
      }
    },
    {
      "cell_type": "code",
      "execution_count": 3,
      "metadata": {
        "id": "sRge3ZdvRcn0"
      },
      "outputs": [],
      "source": [
        "#Importing necessary libraries\n",
        "import pandas as pd\n",
        "import numpy as np\n",
        "import seaborn as sns\n",
        "import matplotlib.pyplot as plt\n",
        "from sklearn.model_selection import train_test_split\n",
        "from sklearn.ensemble import RandomForestClassifier\n",
        "from sklearn.metrics import accuracy_score, confusion_matrix, classification_report\n",
        "from sklearn.linear_model import LogisticRegression\n",
        "from sklearn.preprocessing import LabelEncoder, StandardScaler\n",
        "from sklearn.impute import SimpleImputer\n"
      ]
    },
    {
      "cell_type": "code",
      "source": [
        "pwd"
      ],
      "metadata": {
        "id": "L2i3Gh2hT9g6",
        "colab": {
          "base_uri": "https://localhost:8080/",
          "height": 35
        },
        "outputId": "cd7b6340-feac-4783-c75b-df5daf3047a7"
      },
      "execution_count": 4,
      "outputs": [
        {
          "output_type": "execute_result",
          "data": {
            "text/plain": [
              "'/content'"
            ],
            "application/vnd.google.colaboratory.intrinsic+json": {
              "type": "string"
            }
          },
          "metadata": {},
          "execution_count": 4
        }
      ]
    },
    {
      "cell_type": "code",
      "source": [
        "# Step 1: Load the dataset\n",
        "students = pd.read_csv('students.csv')\n",
        "teachers = pd.read_csv('teachers.csv')\n",
        "parents = pd.read_csv('parents.csv')\n",
        "scores = pd.read_csv('scores.csv')"
      ],
      "metadata": {
        "id": "V_OgzYYNT9QR"
      },
      "execution_count": 6,
      "outputs": []
    },
    {
      "cell_type": "code",
      "source": [
        "# Step 2: Filter students and scores datasets for SS3 students only\n",
        "ss3_students_df = students_df[students_df['StudentID'].str.startswith('SS3')]\n",
        "ss3_scores_df = scores_df[scores_df['StudentID'].str.startswith('SS3')]"
      ],
      "metadata": {
        "id": "3FhiS6ahK749"
      },
      "execution_count": null,
      "outputs": []
    },
    {
      "cell_type": "code",
      "source": [
        "# Step 3: Data cleaning\n",
        "# Check for missing values\n",
        "print(ss3_students_df.isnull().sum())\n",
        "print(ss3_scores_df.isnull().sum())\n",
        "\n",
        "# Handle missing values (e.g., fill with median or drop rows)\n",
        "ss3_students_df.fillna(ss3_students_df.median(), inplace=True)\n",
        "ss3_scores_df.fillna(ss3_scores_df.median(), inplace=True)"
      ],
      "metadata": {
        "id": "wbqzh8eiLKrW"
      },
      "execution_count": null,
      "outputs": []
    },
    {
      "cell_type": "code",
      "source": [
        "# Some analysis:\n",
        "#Combine student data with scores data for analysis\n",
        "merged_df = pd.merge(ss3_students_df, ss3_scores_df, on='StudentID')\n",
        "\n",
        "# Find correlation between numeric variables\n",
        "correlation_matrix = merged_df.corr()\n",
        "\n",
        "# Plot heatmap of correlation\n",
        "plt.figure(figsize=(10, 8))\n",
        "sns.heatmap(correlation_matrix, annot=True, cmap='coolwarm')\n",
        "plt.show()"
      ],
      "metadata": {
        "id": "Yq_jLgdPLZHq"
      },
      "execution_count": null,
      "outputs": []
    },
    {
      "cell_type": "code",
      "source": [
        "#Engineering:\n",
        "# Calculate average internal and mock exam scores\n",
        "merged_df['Average_Internal_Score'] = merged_df[['English Language', 'Physics', 'Chemistry', 'Biology']].mean(axis=1)\n",
        "merged_df['Average_Mock_Score'] = merged_df[['Mock English Language', 'Mock Physics', 'Mock Chemistry', 'Mock Biology']].mean(axis=1)\n",
        "\n",
        "# Feature engineering for attendance percentage\n",
        "merged_df['Attendance_Percentage'] = merged_df['Attendance Record'] / 100"
      ],
      "metadata": {
        "id": "SRzJYRDALx2J"
      },
      "execution_count": null,
      "outputs": []
    },
    {
      "cell_type": "markdown",
      "source": [
        "## **2.Model Training & Evaluation**"
      ],
      "metadata": {
        "id": "-LoDeSJWT0vt"
      }
    },
    {
      "cell_type": "code",
      "source": [
        "# Define target (pass/fail based on internal total score)\n",
        "merged_df['Pass/Fail'] = np.where(merged_df['Internal Exam Total(JAMB)'] >= 200, 1, 0)\n",
        "\n",
        "# Features and target\n",
        "X = merged_df[['Attendance_Percentage', 'Extra Curricular Activities', 'Library Hours', 'Average_Internal_Score', 'Average_Mock_Score']]\n",
        "y = merged_df['Pass/Fail']\n",
        "\n",
        "# Split data into train and test\n",
        "X_train, X_test, y_train, y_test = train_test_split(X, y, test_size=0.2, random_state=42)\n",
        "\n",
        "# Train a RandomForest model\n",
        "model = RandomForestClassifier()\n",
        "model.fit(X_train, y_train)\n",
        "\n",
        "# Predict on test data\n",
        "y_pred = model.predict(X_test)\n",
        "\n",
        "# Evaluate the model\n",
        "accuracy = accuracy_score(y_test, y_pred)\n",
        "conf_matrix = confusion_matrix(y_test, y_pred)\n",
        "\n",
        "print(\"Accuracy:\", accuracy)\n",
        "sns.heatmap(conf_matrix, annot=True, fmt=\"d\")\n",
        "plt.show()"
      ],
      "metadata": {
        "id": "fZN5_VSjTupF"
      },
      "execution_count": null,
      "outputs": []
    },
    {
      "cell_type": "markdown",
      "source": [
        "### **3.Model Deployment**"
      ],
      "metadata": {
        "id": "B97VQvd2MT_k"
      }
    },
    {
      "cell_type": "code",
      "source": [
        "import joblib\n",
        "\n",
        "# Save the trained model\n",
        "joblib.dump(model, 'student_performance_model.pkl')\n",
        "\n",
        "# To load the model later\n",
        "# loaded_model = joblib.load('student_performance_model.pkl')"
      ],
      "metadata": {
        "id": "dgd8cUaFMXef"
      },
      "execution_count": null,
      "outputs": []
    },
    {
      "cell_type": "markdown",
      "source": [],
      "metadata": {
        "id": "E54eGlohUgN2"
      }
    }
  ]
}